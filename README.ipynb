{
 "cells": [
  {
   "cell_type": "markdown",
   "metadata": {},
   "source": [
    "# README (Vehicle Detection Project)\n",
    "\n",
    "The task of this project is to find cars within images and videos. Therefore different features must be extracted from images. These features are used to train a SVM to detect cars and \"non-cars\" in images. A sliding window technique is then used to find cars within an image. After that false positives must be rejected. Most code is taken from class and adapted if necessary."
   ]
  },
  {
   "cell_type": "markdown",
   "metadata": {},
   "source": [
    "## 1a. Histogram of Oriented Gradients (HOG)\n",
    "\n",
    "The code for this step is contained in the section \"Function for extracting HOG features\" of the IPython notebook.  \n",
    "I started by reading in all the `vehicle` and `non-vehicle` images.\n",
    "\n",
    "The following pictures show examples of a `vehicle` and a `non-vehicle` class:\n",
    "\n",
    "![alt text](./images/car_nocar.png)\n",
    "\n",
    "I then explored different color spaces and different `skimage.hog()` parameters (`orientations`, `pixels_per_cell`, and `cells_per_block`). With the following parameters I was able to get good results:\n",
    "\n",
    "```\n",
    "color_space = 'YCrCb' # Can be RGB, HSV, LUV, HLS, YUV, YCrCb\n",
    "orient = 9  # HOG orientations\n",
    "pix_per_cell = 8 # HOG pixels per cell\n",
    "cell_per_block = 2 # HOG cells per block\n",
    "```\n",
    "\n",
    "Here is an example using the `YCrCb` color space and given HOG parameters:\n",
    "\n",
    "![alt text](./images/hog_features.png)"
   ]
  },
  {
   "cell_type": "markdown",
   "metadata": {},
   "source": [
    "## 1b. Training of SVM classifier\n",
    "\n",
    "The code for this step is contained in the section \"Loading of training data and fitting of SVM\" of the IPython notebook.  \n",
    "\n",
    "I trained the classified by loading all cars and non-cars images from the provided dataset. This gives 8460 samples of each class. I then tried different combinations of features combinations and ended up with the following result:\n",
    "\n",
    "```\n",
    "hog_feat = True # HOG features on or off\n",
    "hog_channel = 'ALL' # Can be 0, 1, 2, or \"ALL\"\n",
    "\n",
    "spatial_feat = True # Spatial features on or off\n",
    "spatial_size = (32, 32) # Spatial binning dimensions\n",
    "\n",
    "hist_feat = True # Histogram features on or off\n",
    "hist_bins = 32    # Number of histogram bins\n",
    "```\n",
    "\n",
    "Which means that hog features from all three color channels in (YCrCb) are combined with histogram features and spatial features. The code for extracting these additional features can be found in the notebook. I chose the parameters `spatial_size` and `hist_bins` based on experience from the lecture.\n",
    "\n",
    "The function `extract_features` extract and combines all features, so that after normalization using a `StandardScaler` a linear Support Vector Classifier (SVC) can be trained using `LinearSVC.fit`.\n",
    "Also, I split training and test data so I can calculate the accuracy. I end up with an accuracy of 99.2%.\n",
    "The following images show predictions for several test images:\n",
    "\n",
    "![alt text](./images/predictions.png)"
   ]
  },
  {
   "cell_type": "markdown",
   "metadata": {},
   "source": [
    "## 2a. Sliding Window Search\n",
    "\n",
    "The code for this step is contained in the section \"Sliding window search\" of the IPython notebook. The function `find_cars` implements a sliding window technique using hog sub-sampling.\n",
    "\n",
    "Since cars are only expected on the road only, all sky pixels are removed. Also, pixels belonging to the hood are ignored. This leaves a range of 400 to 656 px in the y-direction.\n",
    "The following image shows all possible search windows:\n",
    "\n",
    "![alt text](./images/window_search.png)\n",
    "\n",
    "Using a `cells_per_step = 2` results in a search window overlap of 75%.\n",
    "It's possible to run this same function multiple times for different scale values to generate multiple-scaled search windows. In my case, this was not necessary and running the function once\n",
    "with a window of 64x64 px and a scaling factor of 1.5 gave good results."
   ]
  },
  {
   "cell_type": "markdown",
   "metadata": {},
   "source": [
    "## 2b. Pipeline and detection of false positives\n",
    "\n",
    "The code for this step is contained in the section \"Detecting false positives / heat map\" of the IPython notebook.\n",
    "\n",
    "The final pipeline can be found in the function `process_image`.\n",
    "For the final pipeline, I search for cars on one scales using YCrCb 3-channel HOG features plus spatially binned color and histograms of color in the feature vector, which provided good results. From the following image it can be seen that a car is detected multiple times:\n",
    "\n",
    "![alt text](./images/detections.png)\n",
    "\n",
    "I used heat map technique to group these detections and also reduce the detection of false positives. The following image shows the heat map, which is calculated by adding +1 within the boundaries of single detections, and the final bounding box calculated by labeling (separating) detections from the heat map and thresholding them:\n",
    "\n",
    "![alt text](./images/heat_map.png)\n",
    "\n",
    "Labeling seperates different regions of the heat map. The results of `scipy.ndimage.measurements.label()` are shown here as well (different colors means different labels):\n",
    "\n",
    "![alt text](./images/labels.png)\n"
   ]
  },
  {
   "cell_type": "markdown",
   "metadata": {},
   "source": [
    "# 3. Video Implementation\n",
    "\n",
    "The code for this step is contained in the section \"Video\" of the IPython notebook.\n",
    "The final video can be found here: [link to video result](./project_video.mp4)\n",
    "For the video, I applied two different strategies\n",
    "\n",
    "* First I calculate an average heat map from the heat maps of the three last frames, this gives higher robustness over time, since a wrong detection in one frame will be compensated\n",
    "\n",
    "* Second, I implemented a class `Vehicle` that keeps track of one single vehicle. Inside the class, the history of previous detections is kept. I then implemented a method `get_bbox_smooth` that returns a smooth bounding box calculate from the last 5 frames. This gives a smoother result. \n",
    "\n",
    "A comparision of using a average heatmap and using no average heatmap can be found here:\n",
    "* [without averaged heat map](./test_video_output_false_positives.mp4)\n",
    "* [with averaged heat map](./test_video_output_no_false_positives.mp4)\n",
    "\n",
    "Using no average heat map leads to the detection of false positives. (In order to exaggerate the effect I reduced the heat map threshold from 1.5 to 0.8)"
   ]
  },
  {
   "cell_type": "code",
   "execution_count": 19,
   "metadata": {
    "collapsed": false
   },
   "outputs": [
    {
     "data": {
      "text/html": [
       "<video width=\"960\" height=\"540\" controls><source src=\"test_video_output.mp4\"></video>"
      ],
      "text/plain": [
       "<IPython.core.display.HTML object>"
      ]
     },
     "execution_count": 19,
     "metadata": {},
     "output_type": "execute_result"
    }
   ],
   "source": [
    "from IPython.display import HTML\n",
    "HTML(\"\"\"<video width=\"960\" height=\"540\" controls><source src=\"{0}\"></video>\"\"\".format('test_video_output.mp4'))"
   ]
  },
  {
   "cell_type": "code",
   "execution_count": 20,
   "metadata": {
    "collapsed": false
   },
   "outputs": [
    {
     "data": {
      "text/html": [
       "\n",
       "<video width=\"480\" height=\"270\" controls><source src=\"test_video_output_false_positives.mp4\">\n",
       "</video><video width=\"480\" height=\"270\" controls><source src=\"test_video_output_no_false_positives.mp4\"></video>\n"
      ],
      "text/plain": [
       "<IPython.core.display.HTML object>"
      ]
     },
     "execution_count": 20,
     "metadata": {},
     "output_type": "execute_result"
    }
   ],
   "source": [
    "from IPython.display import HTML\n",
    "HTML(\"\"\"\n",
    "<video width=\"480\" height=\"270\" controls><source src=\"{0}\">\n",
    "</video><video width=\"480\" height=\"270\" controls><source src=\"{1}\"></video>\n",
    "\"\"\".format('test_video_output_false_positives.mp4','test_video_output_no_false_positives.mp4'))"
   ]
  },
  {
   "cell_type": "markdown",
   "metadata": {},
   "source": [
    "# Discussion"
   ]
  },
  {
   "cell_type": "markdown",
   "metadata": {},
   "source": [
    "The pipeline shows good results, nonetheless, it could be improved. Especially when a car is not seen or can't be detected for a certain number of consecutive frames the current pipeline will fail. It would be possible to calculate a confidence value based on the number of successful detections in the past. Once the confidence is high enough the position of the car could be estimated based on its speed and direction."
   ]
  }
 ],
 "metadata": {
  "kernelspec": {
   "display_name": "Python 3",
   "language": "python",
   "name": "python3"
  },
  "language_info": {
   "codemirror_mode": {
    "name": "ipython",
    "version": 3
   },
   "file_extension": ".py",
   "mimetype": "text/x-python",
   "name": "python",
   "nbconvert_exporter": "python",
   "pygments_lexer": "ipython3",
   "version": "3.5.2"
  },
  "widgets": {
   "state": {},
   "version": "1.1.2"
  }
 },
 "nbformat": 4,
 "nbformat_minor": 2
}
